{
 "cells": [
  {
   "cell_type": "code",
   "execution_count": 7,
   "metadata": {},
   "outputs": [],
   "source": [
    "def leaps(board):\n",
    "    jumps = []\n",
    "    for pos, piece in enumerate( board ):\n",
    "        jumpmove = pos + (piece * 2)\n",
    "        jump = pos + (piece)\n",
    "        if ( piece == 0 ):\n",
    "            continue\n",
    "        if (not (( jumpmove < 0 ) or ( jumpmove >= len(board)))):\n",
    "            if (board[jumpmove] == 0):\n",
    "                t = list(board)\n",
    "                t[pos] = 0\n",
    "                t[jumpmove] = piece\n",
    "                jumps.append(t)\n",
    "        if (not ((jump < 0) or ( jump >= len(board)))):\n",
    "            if ( board[jump] == 0):\n",
    "                t = list(board)\n",
    "                t[pos] = 0\n",
    "                t[jump] = piece\n",
    "                jumps.append(t)\n",
    "    return jumps"
   ]
  },
  {
   "cell_type": "code",
   "execution_count": 8,
   "metadata": {},
   "outputs": [],
   "source": [
    "def bfs( current, target ):\n",
    "    next = []\n",
    "    for a in current:\n",
    "        n = leaps(a[-1])\n",
    "        for q in n:\n",
    "            t = list(a)\n",
    "            t.append(q)\n",
    "            if ( q == target ):\n",
    "                return t\n",
    "            next.append(t)\n",
    "    return next"
   ]
  },
  {
   "cell_type": "code",
   "execution_count": 9,
   "metadata": {},
   "outputs": [],
   "source": [
    "def solve(start):\n",
    "    temp=[[start]]\n",
    "    end = list(start)\n",
    "    end.reverse()\n",
    "    while(temp[-1] != end):\n",
    "        temp = bfs(temp, end)\n",
    "    return temp"
   ]
  },
  {
   "cell_type": "code",
   "execution_count": 10,
   "metadata": {},
   "outputs": [
    {
     "name": "stdout",
     "output_type": "stream",
     "text": [
      "BFS\n"
     ]
    },
    {
     "data": {
      "text/plain": [
       "[[1, 1, 1, 0, -1, -1, -1],\n",
       " [1, 1, 0, 1, -1, -1, -1],\n",
       " [1, 1, -1, 1, 0, -1, -1],\n",
       " [1, 1, -1, 1, -1, 0, -1],\n",
       " [1, 1, -1, 0, -1, 1, -1],\n",
       " [1, 0, -1, 1, -1, 1, -1],\n",
       " [0, 1, -1, 1, -1, 1, -1],\n",
       " [-1, 1, 0, 1, -1, 1, -1],\n",
       " [-1, 1, -1, 1, 0, 1, -1],\n",
       " [-1, 1, -1, 1, -1, 1, 0],\n",
       " [-1, 1, -1, 1, -1, 0, 1],\n",
       " [-1, 1, -1, 0, -1, 1, 1],\n",
       " [-1, 0, -1, 1, -1, 1, 1],\n",
       " [-1, -1, 0, 1, -1, 1, 1],\n",
       " [-1, -1, -1, 1, 0, 1, 1],\n",
       " [-1, -1, -1, 0, 1, 1, 1]]"
      ]
     },
     "execution_count": 10,
     "metadata": {},
     "output_type": "execute_result"
    }
   ],
   "source": [
    "print(\"BFS\")\n",
    "states = solve([1, 1, 1, 0, -1, -1, -1])\n",
    "states"
   ]
  },
  {
   "cell_type": "code",
   "execution_count": null,
   "metadata": {},
   "outputs": [],
   "source": []
  },
  {
   "cell_type": "code",
   "execution_count": null,
   "metadata": {},
   "outputs": [],
   "source": []
  }
 ],
 "metadata": {
  "kernelspec": {
   "display_name": "Python 3",
   "language": "python",
   "name": "python3"
  },
  "language_info": {
   "codemirror_mode": {
    "name": "ipython",
    "version": 3
   },
   "file_extension": ".py",
   "mimetype": "text/x-python",
   "name": "python",
   "nbconvert_exporter": "python",
   "pygments_lexer": "ipython3",
   "version": "3.7.1"
  }
 },
 "nbformat": 4,
 "nbformat_minor": 2
}
