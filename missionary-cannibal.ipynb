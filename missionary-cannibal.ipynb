{
 "cells": [
  {
   "cell_type": "code",
   "execution_count": 14,
   "metadata": {},
   "outputs": [
    {
     "name": "stdout",
     "output_type": "stream",
     "text": [
      "[(3, 3, 0), (3, 2, 0), (3, 1, 0), (2, 3, 0), (2, 2, 0), (1, 3, 0), (3, 2, 1), (2, 3, 1), (3, 0, 0), (2, 1, 0), (1, 2, 0), (3, 1, 1), (2, 0, 0), (1, 1, 0), (1, 2, 1), (1, 3, 1), (2, 1, 1), (2, 2, 1), (0, 2, 0), (0, 3, 1), (0, 1, 0), (0, 2, 1), (0, 0, 0)]\n",
      "End reached\n"
     ]
    }
   ],
   "source": [
    "class Graph:\n",
    "    def __init__(self):\n",
    "        self.graph = {}\n",
    "    \n",
    "    def addEdge(self, start, end):\n",
    "        if start in self.graph:\n",
    "            self.graph[start].append(end)\n",
    "        else:\n",
    "            self.graph[start] = [end]\n",
    "    \n",
    "    def printGraph(self):\n",
    "        print(self.graph)\n",
    "\n",
    "def bfs(graph, marked,start, end):\n",
    "    marked.append(start) #checks if you have seen a node\n",
    "\n",
    "    visited_queue = []\n",
    "    visited_queue.append(start) #if you have explored the children node of that node\n",
    "\n",
    "    while visited_queue:\n",
    "        visited = visited_queue.pop(0) #visited_queue acts as a queue and pops its first value\n",
    "\n",
    "        #do your logic\n",
    "        if visited == end: \n",
    "            print(marked)\n",
    "            print('End reached')\n",
    "            return\n",
    "\n",
    "        if visited in graph:\n",
    "            for i in graph[visited]: #it explores the visited node\n",
    "                if i not in marked: #if the visited node is not initially visited add it to marked and visited_queue\n",
    "                    visited_queue.append(i)\n",
    "                    marked.append(i)\n",
    "\n",
    "    return \n",
    "\n",
    "graph = Graph()\n",
    "\n",
    "graph.addEdge((3,3,0), (3,2,0))\n",
    "graph.addEdge((3,3,0), (3,1,0))\n",
    "graph.addEdge((3,3,0), (2,3,0))\n",
    "graph.addEdge((3,3,0), (2,2,0))\n",
    "graph.addEdge((3,3,0), (1,3,0))\n",
    "graph.addEdge((3,1,0), (3,2,1))\n",
    "graph.addEdge((2,2,0), (2,3,1))\n",
    "graph.addEdge((3,2,1), (3,0,0))\n",
    "graph.addEdge((3,2,1), (2,1,0))\n",
    "graph.addEdge((3,2,1), (1,2,0))\n",
    "graph.addEdge((3,0,0), (3,1,1))\n",
    "graph.addEdge((3,1,1), (2,0,0))\n",
    "graph.addEdge((3,1,1), (1,1,0))\n",
    "graph.addEdge((1,1,0), (1,2,1))\n",
    "graph.addEdge((1,1,0), (1,3,1))\n",
    "graph.addEdge((1,1,0), (2,1,1))\n",
    "graph.addEdge((1,1,0), (2,2,1))\n",
    "graph.addEdge((2,2,1), (0,2,0))\n",
    "graph.addEdge((0,2,0), (0,3,1))\n",
    "graph.addEdge((0,3,1), (0,1,0))\n",
    "graph.addEdge((0,1,0), (0,2,1))\n",
    "graph.addEdge((0,2,1), (0,0,0))\n",
    "\n",
    "bfs(graph.graph, [], (3,3,0), (0,0,0))"
   ]
  },
  {
   "cell_type": "code",
   "execution_count": 19,
   "metadata": {},
   "outputs": [
    {
     "name": "stdout",
     "output_type": "stream",
     "text": [
      "[(3, 3, 0), (3, 2, 0), (3, 1, 0), (3, 2, 1), (3, 0, 0), (3, 1, 1), (2, 0, 0), (1, 1, 0), (1, 2, 1), (1, 3, 1), (2, 1, 1), (2, 2, 1), (0, 2, 0), (0, 3, 1), (0, 1, 0), (0, 2, 1), (0, 0, 0)]\n",
      "End Reached\n"
     ]
    }
   ],
   "source": [
    "class Graph:\n",
    "    def __init__(self):\n",
    "        self.graph = {}\n",
    "    \n",
    "    def addEdge(self, start, end):\n",
    "        if start in self.graph:\n",
    "            self.graph[start].append(end)\n",
    "        else:\n",
    "            self.graph[start] = [end]\n",
    "    \n",
    "    def printGraph(self):\n",
    "        print(self.graph)\n",
    "\n",
    "visited_stack = []\n",
    "def dfs(graph, start):\n",
    "    \n",
    "    visited_stack.append(start)\n",
    "    if start == (0,0,0):\n",
    "        print(visited_stack)\n",
    "        print('End Reached')\n",
    "        \n",
    "    if start in graph:\n",
    "        for i in graph[start]:\n",
    "            if i not in visited_stack:\n",
    "                dfs(graph, i)\n",
    "    return \n",
    "\n",
    "graph = Graph()\n",
    "\n",
    "graph.addEdge((3,3,0), (3,2,0))\n",
    "graph.addEdge((3,3,0), (3,1,0))\n",
    "graph.addEdge((3,3,0), (2,3,0))\n",
    "graph.addEdge((3,3,0), (2,2,0))\n",
    "graph.addEdge((3,3,0), (1,3,0))\n",
    "graph.addEdge((3,1,0), (3,2,1))\n",
    "graph.addEdge((2,2,0), (2,3,1))\n",
    "graph.addEdge((3,2,1), (3,0,0))\n",
    "graph.addEdge((3,2,1), (2,1,0))\n",
    "graph.addEdge((3,2,1), (1,2,0))\n",
    "graph.addEdge((3,0,0), (3,1,1))\n",
    "graph.addEdge((3,1,1), (2,0,0))\n",
    "graph.addEdge((3,1,1), (1,1,0))\n",
    "graph.addEdge((1,1,0), (1,2,1))\n",
    "graph.addEdge((1,1,0), (1,3,1))\n",
    "graph.addEdge((1,1,0), (2,1,1))\n",
    "graph.addEdge((1,1,0), (2,2,1))\n",
    "graph.addEdge((2,2,1), (0,2,0))\n",
    "graph.addEdge((0,2,0), (0,3,1))\n",
    "graph.addEdge((0,3,1), (0,1,0))\n",
    "graph.addEdge((0,1,0), (0,2,1))\n",
    "graph.addEdge((0,2,1), (0,0,0))\n",
    "\n",
    "dfs(graph.graph, (3,3,0))"
   ]
  },
  {
   "cell_type": "code",
   "execution_count": 20,
   "metadata": {},
   "outputs": [
    {
     "data": {
      "text/plain": [
       "23"
      ]
     },
     "execution_count": 20,
     "metadata": {},
     "output_type": "execute_result"
    }
   ],
   "source": [
    "len(visited_stack)"
   ]
  },
  {
   "cell_type": "code",
   "execution_count": null,
   "metadata": {},
   "outputs": [],
   "source": []
  }
 ],
 "metadata": {
  "kernelspec": {
   "display_name": "Python 3",
   "language": "python",
   "name": "python3"
  },
  "language_info": {
   "codemirror_mode": {
    "name": "ipython",
    "version": 3
   },
   "file_extension": ".py",
   "mimetype": "text/x-python",
   "name": "python",
   "nbconvert_exporter": "python",
   "pygments_lexer": "ipython3",
   "version": "3.7.1"
  }
 },
 "nbformat": 4,
 "nbformat_minor": 2
}
