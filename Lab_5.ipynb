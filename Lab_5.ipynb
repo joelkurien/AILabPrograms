{
 "cells": [
  {
   "cell_type": "code",
   "execution_count": 1,
   "metadata": {},
   "outputs": [],
   "source": [
    "data <- read.table(\"C:/Users/NEW/OneDrive/Documents/AI/2020_bn_nb_data.txt\", sep=\"\", header=TRUE)"
   ]
  },
  {
   "cell_type": "code",
   "execution_count": 2,
   "metadata": {},
   "outputs": [
    {
     "data": {
      "text/html": [
       "<table>\n",
       "<thead><tr><th scope=col>EC100</th><th scope=col>EC160</th><th scope=col>IT101</th><th scope=col>IT161</th><th scope=col>MA101</th><th scope=col>PH100</th><th scope=col>PH160</th><th scope=col>HS101</th><th scope=col>QP</th></tr></thead>\n",
       "<tbody>\n",
       "\t<tr><td>BC</td><td>CC</td><td>BB</td><td>BC</td><td>CC</td><td>BC</td><td>AA</td><td>BB</td><td>y </td></tr>\n",
       "\t<tr><td>CC</td><td>BC</td><td>BB</td><td>BB</td><td>CC</td><td>BC</td><td>AB</td><td>BB</td><td>y </td></tr>\n",
       "\t<tr><td>AB</td><td>BB</td><td>AB</td><td>AB</td><td>BB</td><td>CC</td><td>BC</td><td>AB</td><td>y </td></tr>\n",
       "\t<tr><td>BC</td><td>CC</td><td>BB</td><td>BB</td><td>BB</td><td>BB</td><td>BC</td><td>BB</td><td>y </td></tr>\n",
       "\t<tr><td>BC</td><td>AB</td><td>CD</td><td>BC</td><td>BC</td><td>BC</td><td>BC</td><td>CD</td><td>y </td></tr>\n",
       "\t<tr><td>DD</td><td>CC</td><td>DD</td><td>CD</td><td>CD</td><td>CC</td><td>BC</td><td>BC</td><td>n </td></tr>\n",
       "\t<tr><td>BC</td><td>BB</td><td>CD</td><td>CC</td><td>CC</td><td>BC</td><td>BB</td><td>AB</td><td>y </td></tr>\n",
       "\t<tr><td>BB</td><td>CC</td><td>CC</td><td>CC</td><td>BB</td><td>BB</td><td>BB</td><td>BC</td><td>y </td></tr>\n",
       "\t<tr><td>AA</td><td>AB</td><td>AA</td><td>AA</td><td>AA</td><td>AA</td><td>BB</td><td>AB</td><td>y </td></tr>\n",
       "\t<tr><td>BB</td><td>BB</td><td>BC</td><td>CC</td><td>AB</td><td>AA</td><td>AB</td><td>AA</td><td>y </td></tr>\n",
       "\t<tr><td>BC</td><td>BC</td><td>BC</td><td>BC</td><td>BC</td><td>BC</td><td>BB</td><td>BC</td><td>y </td></tr>\n",
       "\t<tr><td>CC</td><td>AB</td><td>BC</td><td>BC</td><td>CC</td><td>CC</td><td>AB</td><td>BB</td><td>y </td></tr>\n",
       "\t<tr><td>BC</td><td>BC</td><td>CC</td><td>BC</td><td>CC</td><td>CC</td><td>BB</td><td>AB</td><td>y </td></tr>\n",
       "\t<tr><td>BC</td><td>BC</td><td>BB</td><td>AB</td><td>BB</td><td>AB</td><td>BB</td><td>AA</td><td>y </td></tr>\n",
       "\t<tr><td>AB</td><td>BC</td><td>BB</td><td>BB</td><td>AB</td><td>AA</td><td>AB</td><td>AA</td><td>y </td></tr>\n",
       "\t<tr><td>BC</td><td>CC</td><td>CD</td><td>CC</td><td>BB</td><td>AA</td><td>BB</td><td>AA</td><td>y </td></tr>\n",
       "\t<tr><td>CC</td><td>BC</td><td>CC</td><td>BC</td><td>BC</td><td>AB</td><td>BC</td><td>AB</td><td>y </td></tr>\n",
       "\t<tr><td>CC</td><td>DD</td><td>BC</td><td>BC</td><td>BC</td><td>CD</td><td>BC</td><td>BB</td><td>y </td></tr>\n",
       "\t<tr><td>BB</td><td>CC</td><td>BB</td><td>AB</td><td>BB</td><td>BB</td><td>BB</td><td>AB</td><td>y </td></tr>\n",
       "\t<tr><td>CD</td><td>CC</td><td>CC</td><td>BC</td><td>BC</td><td>BC</td><td>BC</td><td>AA</td><td>y </td></tr>\n",
       "\t<tr><td>AA</td><td>AA</td><td>AA</td><td>AA</td><td>AB</td><td>AA</td><td>BB</td><td>AA</td><td>y </td></tr>\n",
       "\t<tr><td>CC</td><td>CC</td><td>BC</td><td>DD</td><td>CC</td><td>BB</td><td>AB</td><td>BB</td><td>y </td></tr>\n",
       "\t<tr><td>CC</td><td>CC</td><td>BB</td><td>BB</td><td>BB</td><td>BC</td><td>BB</td><td>AA</td><td>y </td></tr>\n",
       "\t<tr><td>CD</td><td>BC</td><td>AB</td><td>AA</td><td>CD</td><td>CD</td><td>BC</td><td>AA</td><td>y </td></tr>\n",
       "\t<tr><td>BB</td><td>BB</td><td>AB</td><td>CC</td><td>AB</td><td>AB</td><td>BC</td><td>BB</td><td>y </td></tr>\n",
       "\t<tr><td>BB</td><td>CC</td><td>AA</td><td>BC</td><td>BC</td><td>AB</td><td>BC</td><td>AB</td><td>y </td></tr>\n",
       "\t<tr><td>AB</td><td>BB</td><td>BC</td><td>BB</td><td>AB</td><td>AA</td><td>BB</td><td>AB</td><td>y </td></tr>\n",
       "\t<tr><td>CC</td><td>BC</td><td>BC</td><td>BC</td><td>BC</td><td>AB</td><td>BB</td><td>AB</td><td>y </td></tr>\n",
       "\t<tr><td>CD</td><td>BB</td><td>CD</td><td>BB</td><td>DD</td><td>CC</td><td>BC</td><td>AB</td><td>y </td></tr>\n",
       "\t<tr><td>DD</td><td>CD</td><td>CD</td><td>DD</td><td>DD</td><td>CD</td><td>CC</td><td>DD</td><td>n </td></tr>\n",
       "\t<tr><td>...</td><td>...</td><td>...</td><td>...</td><td>...</td><td>...</td><td>...</td><td>...</td><td>...</td></tr>\n",
       "\t<tr><td>DD</td><td>BB</td><td>F </td><td>DD</td><td>CD</td><td>DD</td><td>CD</td><td>DD</td><td>n </td></tr>\n",
       "\t<tr><td>BB</td><td>AA</td><td>BB</td><td>AA</td><td>BC</td><td>AA</td><td>AA</td><td>AA</td><td>y </td></tr>\n",
       "\t<tr><td>BC</td><td>BB</td><td>BC</td><td>CC</td><td>BC</td><td>AB</td><td>BC</td><td>CC</td><td>y </td></tr>\n",
       "\t<tr><td>AB</td><td>BC</td><td>BB</td><td>BC</td><td>BC</td><td>AB</td><td>BB</td><td>BB</td><td>y </td></tr>\n",
       "\t<tr><td>BB</td><td>BB</td><td>BB</td><td>AA</td><td>BC</td><td>AA</td><td>AA</td><td>AA</td><td>y </td></tr>\n",
       "\t<tr><td>BC</td><td>BB</td><td>CD</td><td>BC</td><td>CC</td><td>BC</td><td>BC</td><td>BC</td><td>y </td></tr>\n",
       "\t<tr><td>BB</td><td>AA</td><td>AA</td><td>AA</td><td>AB</td><td>AB</td><td>AB</td><td>AA</td><td>y </td></tr>\n",
       "\t<tr><td>BC</td><td>BC</td><td>CC</td><td>CC</td><td>CC</td><td>AB</td><td>AA</td><td>BB</td><td>y </td></tr>\n",
       "\t<tr><td>CD</td><td>CC</td><td>CC</td><td>BB</td><td>CC</td><td>CC</td><td>AA</td><td>BC</td><td>y </td></tr>\n",
       "\t<tr><td>F </td><td>DD</td><td>F </td><td>DD</td><td>F </td><td>F </td><td>DD</td><td>F </td><td>n </td></tr>\n",
       "\t<tr><td>BC</td><td>BC</td><td>BC</td><td>BC</td><td>CC</td><td>BB</td><td>CD</td><td>AB</td><td>y </td></tr>\n",
       "\t<tr><td>CC</td><td>AB</td><td>BC</td><td>CC</td><td>CC</td><td>BC</td><td>BC</td><td>BB</td><td>y </td></tr>\n",
       "\t<tr><td>BC</td><td>BC</td><td>BC</td><td>CD</td><td>BC</td><td>BB</td><td>BB</td><td>AA</td><td>y </td></tr>\n",
       "\t<tr><td>F </td><td>F </td><td>F </td><td>DD</td><td>DD</td><td>DD</td><td>CD</td><td>DD</td><td>n </td></tr>\n",
       "\t<tr><td>CC</td><td>BC</td><td>AB</td><td>BB</td><td>BB</td><td>CD</td><td>BB</td><td>BC</td><td>y </td></tr>\n",
       "\t<tr><td>F </td><td>F </td><td>F </td><td>DD</td><td>F </td><td>F </td><td>DD</td><td>F </td><td>n </td></tr>\n",
       "\t<tr><td>BB</td><td>BC</td><td>BB</td><td>BB</td><td>BB</td><td>BB</td><td>CC</td><td>AB</td><td>y </td></tr>\n",
       "\t<tr><td>CC</td><td>BC</td><td>CC</td><td>BC</td><td>BB</td><td>BC</td><td>CC</td><td>BB</td><td>y </td></tr>\n",
       "\t<tr><td>BC</td><td>BC</td><td>BB</td><td>BC</td><td>BC</td><td>AB</td><td>CC</td><td>CD</td><td>y </td></tr>\n",
       "\t<tr><td>BB</td><td>BC</td><td>BB</td><td>BB</td><td>BC</td><td>AB</td><td>CC</td><td>BC</td><td>y </td></tr>\n",
       "\t<tr><td>CD</td><td>CC</td><td>CD</td><td>BC</td><td>BC</td><td>BC</td><td>BC</td><td>CD</td><td>y </td></tr>\n",
       "\t<tr><td>CC</td><td>BC</td><td>BC</td><td>CC</td><td>CC</td><td>CC</td><td>BC</td><td>CC</td><td>y </td></tr>\n",
       "\t<tr><td>BB</td><td>BC</td><td>BC</td><td>BB</td><td>BB</td><td>AA</td><td>BC</td><td>BC</td><td>y </td></tr>\n",
       "\t<tr><td>BC</td><td>BC</td><td>BC</td><td>BB</td><td>CC</td><td>CC</td><td>BC</td><td>BB</td><td>y </td></tr>\n",
       "\t<tr><td>CC</td><td>BB</td><td>CC</td><td>BB</td><td>BB</td><td>BC</td><td>BC</td><td>BC</td><td>y </td></tr>\n",
       "\t<tr><td>BC</td><td>BB</td><td>BC</td><td>CD</td><td>CC</td><td>BB</td><td>BC</td><td>AB</td><td>y </td></tr>\n",
       "\t<tr><td>BC</td><td>BC</td><td>AB</td><td>BB</td><td>BC</td><td>CC</td><td>AB</td><td>BB</td><td>y </td></tr>\n",
       "\t<tr><td>CC</td><td>BC</td><td>BC</td><td>BC</td><td>CC</td><td>CC</td><td>BC</td><td>BC</td><td>y </td></tr>\n",
       "\t<tr><td>CD</td><td>DD</td><td>BB</td><td>BB</td><td>BC</td><td>CC</td><td>CC</td><td>CC</td><td>y </td></tr>\n",
       "\t<tr><td>F </td><td>DD</td><td>DD</td><td>CD</td><td>F </td><td>F </td><td>CD</td><td>CC</td><td>n </td></tr>\n",
       "</tbody>\n",
       "</table>\n"
      ],
      "text/latex": [
       "\\begin{tabular}{r|lllllllll}\n",
       " EC100 & EC160 & IT101 & IT161 & MA101 & PH100 & PH160 & HS101 & QP\\\\\n",
       "\\hline\n",
       "\t BC & CC & BB & BC & CC & BC & AA & BB & y \\\\\n",
       "\t CC & BC & BB & BB & CC & BC & AB & BB & y \\\\\n",
       "\t AB & BB & AB & AB & BB & CC & BC & AB & y \\\\\n",
       "\t BC & CC & BB & BB & BB & BB & BC & BB & y \\\\\n",
       "\t BC & AB & CD & BC & BC & BC & BC & CD & y \\\\\n",
       "\t DD & CC & DD & CD & CD & CC & BC & BC & n \\\\\n",
       "\t BC & BB & CD & CC & CC & BC & BB & AB & y \\\\\n",
       "\t BB & CC & CC & CC & BB & BB & BB & BC & y \\\\\n",
       "\t AA & AB & AA & AA & AA & AA & BB & AB & y \\\\\n",
       "\t BB & BB & BC & CC & AB & AA & AB & AA & y \\\\\n",
       "\t BC & BC & BC & BC & BC & BC & BB & BC & y \\\\\n",
       "\t CC & AB & BC & BC & CC & CC & AB & BB & y \\\\\n",
       "\t BC & BC & CC & BC & CC & CC & BB & AB & y \\\\\n",
       "\t BC & BC & BB & AB & BB & AB & BB & AA & y \\\\\n",
       "\t AB & BC & BB & BB & AB & AA & AB & AA & y \\\\\n",
       "\t BC & CC & CD & CC & BB & AA & BB & AA & y \\\\\n",
       "\t CC & BC & CC & BC & BC & AB & BC & AB & y \\\\\n",
       "\t CC & DD & BC & BC & BC & CD & BC & BB & y \\\\\n",
       "\t BB & CC & BB & AB & BB & BB & BB & AB & y \\\\\n",
       "\t CD & CC & CC & BC & BC & BC & BC & AA & y \\\\\n",
       "\t AA & AA & AA & AA & AB & AA & BB & AA & y \\\\\n",
       "\t CC & CC & BC & DD & CC & BB & AB & BB & y \\\\\n",
       "\t CC & CC & BB & BB & BB & BC & BB & AA & y \\\\\n",
       "\t CD & BC & AB & AA & CD & CD & BC & AA & y \\\\\n",
       "\t BB & BB & AB & CC & AB & AB & BC & BB & y \\\\\n",
       "\t BB & CC & AA & BC & BC & AB & BC & AB & y \\\\\n",
       "\t AB & BB & BC & BB & AB & AA & BB & AB & y \\\\\n",
       "\t CC & BC & BC & BC & BC & AB & BB & AB & y \\\\\n",
       "\t CD & BB & CD & BB & DD & CC & BC & AB & y \\\\\n",
       "\t DD & CD & CD & DD & DD & CD & CC & DD & n \\\\\n",
       "\t ... & ... & ... & ... & ... & ... & ... & ... & ...\\\\\n",
       "\t DD & BB & F  & DD & CD & DD & CD & DD & n \\\\\n",
       "\t BB & AA & BB & AA & BC & AA & AA & AA & y \\\\\n",
       "\t BC & BB & BC & CC & BC & AB & BC & CC & y \\\\\n",
       "\t AB & BC & BB & BC & BC & AB & BB & BB & y \\\\\n",
       "\t BB & BB & BB & AA & BC & AA & AA & AA & y \\\\\n",
       "\t BC & BB & CD & BC & CC & BC & BC & BC & y \\\\\n",
       "\t BB & AA & AA & AA & AB & AB & AB & AA & y \\\\\n",
       "\t BC & BC & CC & CC & CC & AB & AA & BB & y \\\\\n",
       "\t CD & CC & CC & BB & CC & CC & AA & BC & y \\\\\n",
       "\t F  & DD & F  & DD & F  & F  & DD & F  & n \\\\\n",
       "\t BC & BC & BC & BC & CC & BB & CD & AB & y \\\\\n",
       "\t CC & AB & BC & CC & CC & BC & BC & BB & y \\\\\n",
       "\t BC & BC & BC & CD & BC & BB & BB & AA & y \\\\\n",
       "\t F  & F  & F  & DD & DD & DD & CD & DD & n \\\\\n",
       "\t CC & BC & AB & BB & BB & CD & BB & BC & y \\\\\n",
       "\t F  & F  & F  & DD & F  & F  & DD & F  & n \\\\\n",
       "\t BB & BC & BB & BB & BB & BB & CC & AB & y \\\\\n",
       "\t CC & BC & CC & BC & BB & BC & CC & BB & y \\\\\n",
       "\t BC & BC & BB & BC & BC & AB & CC & CD & y \\\\\n",
       "\t BB & BC & BB & BB & BC & AB & CC & BC & y \\\\\n",
       "\t CD & CC & CD & BC & BC & BC & BC & CD & y \\\\\n",
       "\t CC & BC & BC & CC & CC & CC & BC & CC & y \\\\\n",
       "\t BB & BC & BC & BB & BB & AA & BC & BC & y \\\\\n",
       "\t BC & BC & BC & BB & CC & CC & BC & BB & y \\\\\n",
       "\t CC & BB & CC & BB & BB & BC & BC & BC & y \\\\\n",
       "\t BC & BB & BC & CD & CC & BB & BC & AB & y \\\\\n",
       "\t BC & BC & AB & BB & BC & CC & AB & BB & y \\\\\n",
       "\t CC & BC & BC & BC & CC & CC & BC & BC & y \\\\\n",
       "\t CD & DD & BB & BB & BC & CC & CC & CC & y \\\\\n",
       "\t F  & DD & DD & CD & F  & F  & CD & CC & n \\\\\n",
       "\\end{tabular}\n"
      ],
      "text/markdown": [
       "\n",
       "| EC100 | EC160 | IT101 | IT161 | MA101 | PH100 | PH160 | HS101 | QP |\n",
       "|---|---|---|---|---|---|---|---|---|\n",
       "| BC | CC | BB | BC | CC | BC | AA | BB | y  |\n",
       "| CC | BC | BB | BB | CC | BC | AB | BB | y  |\n",
       "| AB | BB | AB | AB | BB | CC | BC | AB | y  |\n",
       "| BC | CC | BB | BB | BB | BB | BC | BB | y  |\n",
       "| BC | AB | CD | BC | BC | BC | BC | CD | y  |\n",
       "| DD | CC | DD | CD | CD | CC | BC | BC | n  |\n",
       "| BC | BB | CD | CC | CC | BC | BB | AB | y  |\n",
       "| BB | CC | CC | CC | BB | BB | BB | BC | y  |\n",
       "| AA | AB | AA | AA | AA | AA | BB | AB | y  |\n",
       "| BB | BB | BC | CC | AB | AA | AB | AA | y  |\n",
       "| BC | BC | BC | BC | BC | BC | BB | BC | y  |\n",
       "| CC | AB | BC | BC | CC | CC | AB | BB | y  |\n",
       "| BC | BC | CC | BC | CC | CC | BB | AB | y  |\n",
       "| BC | BC | BB | AB | BB | AB | BB | AA | y  |\n",
       "| AB | BC | BB | BB | AB | AA | AB | AA | y  |\n",
       "| BC | CC | CD | CC | BB | AA | BB | AA | y  |\n",
       "| CC | BC | CC | BC | BC | AB | BC | AB | y  |\n",
       "| CC | DD | BC | BC | BC | CD | BC | BB | y  |\n",
       "| BB | CC | BB | AB | BB | BB | BB | AB | y  |\n",
       "| CD | CC | CC | BC | BC | BC | BC | AA | y  |\n",
       "| AA | AA | AA | AA | AB | AA | BB | AA | y  |\n",
       "| CC | CC | BC | DD | CC | BB | AB | BB | y  |\n",
       "| CC | CC | BB | BB | BB | BC | BB | AA | y  |\n",
       "| CD | BC | AB | AA | CD | CD | BC | AA | y  |\n",
       "| BB | BB | AB | CC | AB | AB | BC | BB | y  |\n",
       "| BB | CC | AA | BC | BC | AB | BC | AB | y  |\n",
       "| AB | BB | BC | BB | AB | AA | BB | AB | y  |\n",
       "| CC | BC | BC | BC | BC | AB | BB | AB | y  |\n",
       "| CD | BB | CD | BB | DD | CC | BC | AB | y  |\n",
       "| DD | CD | CD | DD | DD | CD | CC | DD | n  |\n",
       "| ... | ... | ... | ... | ... | ... | ... | ... | ... |\n",
       "| DD | BB | F  | DD | CD | DD | CD | DD | n  |\n",
       "| BB | AA | BB | AA | BC | AA | AA | AA | y  |\n",
       "| BC | BB | BC | CC | BC | AB | BC | CC | y  |\n",
       "| AB | BC | BB | BC | BC | AB | BB | BB | y  |\n",
       "| BB | BB | BB | AA | BC | AA | AA | AA | y  |\n",
       "| BC | BB | CD | BC | CC | BC | BC | BC | y  |\n",
       "| BB | AA | AA | AA | AB | AB | AB | AA | y  |\n",
       "| BC | BC | CC | CC | CC | AB | AA | BB | y  |\n",
       "| CD | CC | CC | BB | CC | CC | AA | BC | y  |\n",
       "| F  | DD | F  | DD | F  | F  | DD | F  | n  |\n",
       "| BC | BC | BC | BC | CC | BB | CD | AB | y  |\n",
       "| CC | AB | BC | CC | CC | BC | BC | BB | y  |\n",
       "| BC | BC | BC | CD | BC | BB | BB | AA | y  |\n",
       "| F  | F  | F  | DD | DD | DD | CD | DD | n  |\n",
       "| CC | BC | AB | BB | BB | CD | BB | BC | y  |\n",
       "| F  | F  | F  | DD | F  | F  | DD | F  | n  |\n",
       "| BB | BC | BB | BB | BB | BB | CC | AB | y  |\n",
       "| CC | BC | CC | BC | BB | BC | CC | BB | y  |\n",
       "| BC | BC | BB | BC | BC | AB | CC | CD | y  |\n",
       "| BB | BC | BB | BB | BC | AB | CC | BC | y  |\n",
       "| CD | CC | CD | BC | BC | BC | BC | CD | y  |\n",
       "| CC | BC | BC | CC | CC | CC | BC | CC | y  |\n",
       "| BB | BC | BC | BB | BB | AA | BC | BC | y  |\n",
       "| BC | BC | BC | BB | CC | CC | BC | BB | y  |\n",
       "| CC | BB | CC | BB | BB | BC | BC | BC | y  |\n",
       "| BC | BB | BC | CD | CC | BB | BC | AB | y  |\n",
       "| BC | BC | AB | BB | BC | CC | AB | BB | y  |\n",
       "| CC | BC | BC | BC | CC | CC | BC | BC | y  |\n",
       "| CD | DD | BB | BB | BC | CC | CC | CC | y  |\n",
       "| F  | DD | DD | CD | F  | F  | CD | CC | n  |\n",
       "\n"
      ],
      "text/plain": [
       "    EC100 EC160 IT101 IT161 MA101 PH100 PH160 HS101 QP \n",
       "1   BC    CC    BB    BC    CC    BC    AA    BB    y  \n",
       "2   CC    BC    BB    BB    CC    BC    AB    BB    y  \n",
       "3   AB    BB    AB    AB    BB    CC    BC    AB    y  \n",
       "4   BC    CC    BB    BB    BB    BB    BC    BB    y  \n",
       "5   BC    AB    CD    BC    BC    BC    BC    CD    y  \n",
       "6   DD    CC    DD    CD    CD    CC    BC    BC    n  \n",
       "7   BC    BB    CD    CC    CC    BC    BB    AB    y  \n",
       "8   BB    CC    CC    CC    BB    BB    BB    BC    y  \n",
       "9   AA    AB    AA    AA    AA    AA    BB    AB    y  \n",
       "10  BB    BB    BC    CC    AB    AA    AB    AA    y  \n",
       "11  BC    BC    BC    BC    BC    BC    BB    BC    y  \n",
       "12  CC    AB    BC    BC    CC    CC    AB    BB    y  \n",
       "13  BC    BC    CC    BC    CC    CC    BB    AB    y  \n",
       "14  BC    BC    BB    AB    BB    AB    BB    AA    y  \n",
       "15  AB    BC    BB    BB    AB    AA    AB    AA    y  \n",
       "16  BC    CC    CD    CC    BB    AA    BB    AA    y  \n",
       "17  CC    BC    CC    BC    BC    AB    BC    AB    y  \n",
       "18  CC    DD    BC    BC    BC    CD    BC    BB    y  \n",
       "19  BB    CC    BB    AB    BB    BB    BB    AB    y  \n",
       "20  CD    CC    CC    BC    BC    BC    BC    AA    y  \n",
       "21  AA    AA    AA    AA    AB    AA    BB    AA    y  \n",
       "22  CC    CC    BC    DD    CC    BB    AB    BB    y  \n",
       "23  CC    CC    BB    BB    BB    BC    BB    AA    y  \n",
       "24  CD    BC    AB    AA    CD    CD    BC    AA    y  \n",
       "25  BB    BB    AB    CC    AB    AB    BC    BB    y  \n",
       "26  BB    CC    AA    BC    BC    AB    BC    AB    y  \n",
       "27  AB    BB    BC    BB    AB    AA    BB    AB    y  \n",
       "28  CC    BC    BC    BC    BC    AB    BB    AB    y  \n",
       "29  CD    BB    CD    BB    DD    CC    BC    AB    y  \n",
       "30  DD    CD    CD    DD    DD    CD    CC    DD    n  \n",
       "... ...   ...   ...   ...   ...   ...   ...   ...   ...\n",
       "203 DD    BB    F     DD    CD    DD    CD    DD    n  \n",
       "204 BB    AA    BB    AA    BC    AA    AA    AA    y  \n",
       "205 BC    BB    BC    CC    BC    AB    BC    CC    y  \n",
       "206 AB    BC    BB    BC    BC    AB    BB    BB    y  \n",
       "207 BB    BB    BB    AA    BC    AA    AA    AA    y  \n",
       "208 BC    BB    CD    BC    CC    BC    BC    BC    y  \n",
       "209 BB    AA    AA    AA    AB    AB    AB    AA    y  \n",
       "210 BC    BC    CC    CC    CC    AB    AA    BB    y  \n",
       "211 CD    CC    CC    BB    CC    CC    AA    BC    y  \n",
       "212 F     DD    F     DD    F     F     DD    F     n  \n",
       "213 BC    BC    BC    BC    CC    BB    CD    AB    y  \n",
       "214 CC    AB    BC    CC    CC    BC    BC    BB    y  \n",
       "215 BC    BC    BC    CD    BC    BB    BB    AA    y  \n",
       "216 F     F     F     DD    DD    DD    CD    DD    n  \n",
       "217 CC    BC    AB    BB    BB    CD    BB    BC    y  \n",
       "218 F     F     F     DD    F     F     DD    F     n  \n",
       "219 BB    BC    BB    BB    BB    BB    CC    AB    y  \n",
       "220 CC    BC    CC    BC    BB    BC    CC    BB    y  \n",
       "221 BC    BC    BB    BC    BC    AB    CC    CD    y  \n",
       "222 BB    BC    BB    BB    BC    AB    CC    BC    y  \n",
       "223 CD    CC    CD    BC    BC    BC    BC    CD    y  \n",
       "224 CC    BC    BC    CC    CC    CC    BC    CC    y  \n",
       "225 BB    BC    BC    BB    BB    AA    BC    BC    y  \n",
       "226 BC    BC    BC    BB    CC    CC    BC    BB    y  \n",
       "227 CC    BB    CC    BB    BB    BC    BC    BC    y  \n",
       "228 BC    BB    BC    CD    CC    BB    BC    AB    y  \n",
       "229 BC    BC    AB    BB    BC    CC    AB    BB    y  \n",
       "230 CC    BC    BC    BC    CC    CC    BC    BC    y  \n",
       "231 CD    DD    BB    BB    BC    CC    CC    CC    y  \n",
       "232 F     DD    DD    CD    F     F     CD    CC    n  "
      ]
     },
     "metadata": {},
     "output_type": "display_data"
    }
   ],
   "source": [
    "data"
   ]
  },
  {
   "cell_type": "code",
   "execution_count": 3,
   "metadata": {},
   "outputs": [
    {
     "name": "stdout",
     "output_type": "stream",
     "text": [
      "\n",
      "  There is a binary version available but the source version is later:\n",
      "        binary source needs_compilation\n",
      "bnlearn  4.6.1    4.7              TRUE\n",
      "\n",
      "  Binaries will be installed\n",
      "package 'bnlearn' successfully unpacked and MD5 sums checked\n"
     ]
    },
    {
     "name": "stderr",
     "output_type": "stream",
     "text": [
      "Warning message:\n",
      "\"cannot remove prior installation of package 'bnlearn'\"Warning message in file.copy(savedcopy, lib, recursive = TRUE):\n",
      "\"problem copying C:\\Users\\NEW\\Anaconda3\\Lib\\R\\library\\00LOCK\\bnlearn\\libs\\x64\\bnlearn.dll to C:\\Users\\NEW\\Anaconda3\\Lib\\R\\library\\bnlearn\\libs\\x64\\bnlearn.dll: Permission denied\"Warning message:\n",
      "\"restored 'bnlearn'\""
     ]
    },
    {
     "name": "stdout",
     "output_type": "stream",
     "text": [
      "\n",
      "The downloaded binary packages are in\n",
      "\tC:\\Users\\NEW\\AppData\\Local\\Temp\\Rtmpkhz3vI\\downloaded_packages\n"
     ]
    }
   ],
   "source": [
    "install.packages(\"bnlearn\")"
   ]
  },
  {
   "cell_type": "code",
   "execution_count": 4,
   "metadata": {},
   "outputs": [
    {
     "name": "stderr",
     "output_type": "stream",
     "text": [
      "inferring 'repos = NULL' from 'pkgs'\n",
      "Warning message in install.packages(\"http://www.bnlearn.com/releases/bnlearn_latest.tar.gz\"):\n",
      "\"installation of package 'C:/Users/NEW/AppData/Local/Temp/Rtmpkhz3vI/downloaded_packages/bnlearn_latest.tar.gz' had non-zero exit status\""
     ]
    }
   ],
   "source": [
    "install.packages(\"http://www.bnlearn.com/releases/bnlearn_latest.tar.gz\")"
   ]
  },
  {
   "cell_type": "code",
   "execution_count": 5,
   "metadata": {},
   "outputs": [
    {
     "name": "stderr",
     "output_type": "stream",
     "text": [
      "Warning message:\n",
      "\"package 'bnlearn' was built under R version 3.6.3\""
     ]
    }
   ],
   "source": [
    "library(bnlearn)"
   ]
  },
  {
   "cell_type": "code",
   "execution_count": 6,
   "metadata": {},
   "outputs": [
    {
     "data": {
      "image/png": "[encoded data removed]",
      "text/plain": [
       "plot without title"
      ]
     },
     "metadata": {},
     "output_type": "display_data"
    }
   ],
   "source": [
    "res <- hc(data)\n",
    "plot(res)"
   ]
  },
  {
   "cell_type": "code",
   "execution_count": 7,
   "metadata": {
    "scrolled": false
   },
   "outputs": [
    {
     "data": {
      "text/plain": [
       "\n",
       "  Bayesian network parameters\n",
       "\n",
       "  Parameters of node EC100 (multinomial distribution)\n",
       "\n",
       "Conditional probability table:\n",
       "         AA         AB         BB         BC         CC         CD         DD \n",
       "0.03017241 0.09482759 0.15086207 0.20689655 0.15517241 0.12500000 0.08620690 \n",
       "         F \n",
       "0.15086207 \n",
       "\n",
       "  Parameters of node EC160 (multinomial distribution)\n",
       "\n",
       "Conditional probability table:\n",
       " \n",
       "     QP\n",
       "EC160          n          y\n",
       "   AA 0.00000000 0.07500000\n",
       "   AB 0.00000000 0.10000000\n",
       "   BB 0.01388889 0.18750000\n",
       "   BC 0.01388889 0.36250000\n",
       "   CC 0.15277778 0.22500000\n",
       "   CD 0.44444444 0.03125000\n",
       "   DD 0.26388889 0.01875000\n",
       "   F  0.11111111 0.00000000\n",
       "\n",
       "  Parameters of node IT101 (multinomial distribution)\n",
       "\n",
       "Conditional probability table:\n",
       " \n",
       "     QP\n",
       "IT101          n          y\n",
       "   AA 0.00000000 0.07500000\n",
       "   AB 0.00000000 0.15625000\n",
       "   BB 0.04166667 0.19375000\n",
       "   BC 0.02777778 0.29375000\n",
       "   CC 0.13888889 0.20000000\n",
       "   CD 0.30555556 0.08125000\n",
       "   DD 0.31944444 0.00000000\n",
       "   F  0.16666667 0.00000000\n",
       "\n",
       "  Parameters of node IT161 (multinomial distribution)\n",
       "\n",
       "Conditional probability table:\n",
       " \n",
       "     QP\n",
       "IT161          n          y\n",
       "   AA 0.00000000 0.12500000\n",
       "   AB 0.01388889 0.15000000\n",
       "   BB 0.01388889 0.21250000\n",
       "   BC 0.05555556 0.28125000\n",
       "   CC 0.20833333 0.16875000\n",
       "   CD 0.36111111 0.05625000\n",
       "   DD 0.30555556 0.00625000\n",
       "   F  0.04166667 0.00000000\n",
       "\n",
       "  Parameters of node MA101 (multinomial distribution)\n",
       "\n",
       "Conditional probability table:\n",
       " \n",
       "     QP\n",
       "MA101          n          y\n",
       "   AA 0.00000000 0.02500000\n",
       "   AB 0.00000000 0.08125000\n",
       "   BB 0.00000000 0.32500000\n",
       "   BC 0.08333333 0.30000000\n",
       "   CC 0.13888889 0.24375000\n",
       "   CD 0.29166667 0.01875000\n",
       "   DD 0.27777778 0.00625000\n",
       "   F  0.20833333 0.00000000\n",
       "\n",
       "  Parameters of node PH100 (multinomial distribution)\n",
       "\n",
       "Conditional probability table:\n",
       " \n",
       "     QP\n",
       "PH100          n          y\n",
       "   AA 0.00000000 0.16250000\n",
       "   AB 0.00000000 0.16250000\n",
       "   BB 0.01388889 0.21875000\n",
       "   BC 0.02777778 0.20000000\n",
       "   CC 0.12500000 0.19375000\n",
       "   CD 0.27777778 0.06250000\n",
       "   DD 0.33333333 0.00000000\n",
       "   F  0.22222222 0.00000000\n",
       "\n",
       "  Parameters of node PH160 (multinomial distribution)\n",
       "\n",
       "Conditional probability table:\n",
       " \n",
       "     QP\n",
       "PH160          n          y\n",
       "   AA 0.05555556 0.14375000\n",
       "   AB 0.09722222 0.15625000\n",
       "   BB 0.02777778 0.17500000\n",
       "   BC 0.18055556 0.34375000\n",
       "   CC 0.29166667 0.13750000\n",
       "   CD 0.19444444 0.04375000\n",
       "   DD 0.12500000 0.00000000\n",
       "   F  0.02777778 0.00000000\n",
       "\n",
       "  Parameters of node HS101 (multinomial distribution)\n",
       "\n",
       "Conditional probability table:\n",
       " \n",
       "     QP\n",
       "HS101          n          y\n",
       "   AA 0.00000000 0.26250000\n",
       "   AB 0.00000000 0.21250000\n",
       "   BB 0.05555556 0.22500000\n",
       "   BC 0.12500000 0.16875000\n",
       "   CC 0.18055556 0.08125000\n",
       "   CD 0.19444444 0.03750000\n",
       "   DD 0.37500000 0.01250000\n",
       "   F  0.06944444 0.00000000\n",
       "\n",
       "  Parameters of node QP (multinomial distribution)\n",
       "\n",
       "Conditional probability table:\n",
       " \n",
       "   EC100\n",
       "QP         AA        AB        BB        BC        CC        CD        DD\n",
       "  n 0.0000000 0.0000000 0.0000000 0.0000000 0.1388889 0.4482759 0.9500000\n",
       "  y 1.0000000 1.0000000 1.0000000 1.0000000 0.8611111 0.5517241 0.0500000\n",
       "   EC100\n",
       "QP          F\n",
       "  n 1.0000000\n",
       "  y 0.0000000\n"
      ]
     },
     "metadata": {},
     "output_type": "display_data"
    }
   ],
   "source": [
    "fitbin = bn.fit(res, data=data)\n",
    "fitbin"
   ]
  },
  {
   "cell_type": "code",
   "execution_count": 8,
   "metadata": {},
   "outputs": [],
   "source": [
    "ndata <- subset (data, select = -QP)"
   ]
  },
  {
   "cell_type": "code",
   "execution_count": 9,
   "metadata": {},
   "outputs": [],
   "source": [
    "nres <- hc(ndata)"
   ]
  },
  {
   "cell_type": "code",
   "execution_count": 10,
   "metadata": {},
   "outputs": [
    {
     "data": {
      "text/html": [
       "'bn'"
      ],
      "text/latex": [
       "'bn'"
      ],
      "text/markdown": [
       "'bn'"
      ],
      "text/plain": [
       "[1] \"bn\""
      ]
     },
     "metadata": {},
     "output_type": "display_data"
    }
   ],
   "source": [
    "class(nres)"
   ]
  },
  {
   "cell_type": "code",
   "execution_count": 11,
   "metadata": {},
   "outputs": [
    {
     "data": {
      "image/png": "[encoded data removed]",
      "text/plain": [
       "plot without title"
      ]
     },
     "metadata": {},
     "output_type": "display_data"
    }
   ],
   "source": [
    "plot(nres)"
   ]
  },
  {
   "cell_type": "code",
   "execution_count": 12,
   "metadata": {},
   "outputs": [
    {
     "name": "stdout",
     "output_type": "stream",
     "text": [
      "\n",
      "  There is a binary version available but the source version is later:\n",
      "      binary source needs_compilation\n",
      "e1071  1.7-6  1.7-9              TRUE\n",
      "\n",
      "  Binaries will be installed\n",
      "package 'e1071' successfully unpacked and MD5 sums checked\n"
     ]
    },
    {
     "name": "stderr",
     "output_type": "stream",
     "text": [
      "Warning message:\n",
      "\"cannot remove prior installation of package 'e1071'\"Warning message in file.copy(savedcopy, lib, recursive = TRUE):\n",
      "\"problem copying C:\\Users\\NEW\\Anaconda3\\Lib\\R\\library\\00LOCK\\e1071\\libs\\x64\\e1071.dll to C:\\Users\\NEW\\Anaconda3\\Lib\\R\\library\\e1071\\libs\\x64\\e1071.dll: Permission denied\"Warning message:\n",
      "\"restored 'e1071'\""
     ]
    },
    {
     "name": "stdout",
     "output_type": "stream",
     "text": [
      "\n",
      "The downloaded binary packages are in\n",
      "\tC:\\Users\\NEW\\AppData\\Local\\Temp\\Rtmpkhz3vI\\downloaded_packages\n"
     ]
    }
   ],
   "source": [
    "install.packages('e1071')"
   ]
  },
  {
   "cell_type": "code",
   "execution_count": null,
   "metadata": {},
   "outputs": [],
   "source": [
    "library(e1071)\n",
    "\n",
    "\n",
    "#creating training data set by selecting the output row values\n",
    "\n",
    "data1 = sort(sample(nrow(data), nrow(data)*.7))\n",
    "train<-data[data1,]\n",
    "#creating test data set by not selecting the output row values\n",
    "test<-data[-data1,]  \n",
    "\n",
    "set.seed(100)  # Setting Seed\n",
    "classifier_cl <- naiveBayes(QP ~ ., data = train)\n"
   ]
  },
  {
   "cell_type": "code",
   "execution_count": null,
   "metadata": {},
   "outputs": [],
   "source": [
    "y_pred <- predict(classifier_cl, newdata = test)"
   ]
  },
  {
   "cell_type": "code",
   "execution_count": null,
   "metadata": {},
   "outputs": [],
   "source": [
    "cm <- table(test$QP, y_pred)\n",
    "cm"
   ]
  },
  {
   "cell_type": "code",
   "execution_count": null,
   "metadata": {},
   "outputs": [],
   "source": [
    "install.packages('MLmetrics')"
   ]
  },
  {
   "cell_type": "code",
   "execution_count": null,
   "metadata": {},
   "outputs": [],
   "source": [
    "MLmetrics::Accuracy(y_pred, test$QP)"
   ]
  },
  {
   "cell_type": "code",
   "execution_count": null,
   "metadata": {},
   "outputs": [],
   "source": [
    "cm"
   ]
  },
  {
   "cell_type": "code",
   "execution_count": null,
   "metadata": {},
   "outputs": [],
   "source": [
    "68/70"
   ]
  },
  {
   "cell_type": "code",
   "execution_count": null,
   "metadata": {},
   "outputs": [],
   "source": [
    "0.97"
   ]
  }
 ],
 "metadata": {
  "kernelspec": {
   "display_name": "R",
   "language": "R",
   "name": "ir"
  },
  "language_info": {
   "codemirror_mode": "r",
   "file_extension": ".r",
   "mimetype": "text/x-r-source",
   "name": "R",
   "pygments_lexer": "r",
   "version": "3.6.1"
  }
 },
 "nbformat": 4,
 "nbformat_minor": 2
}
